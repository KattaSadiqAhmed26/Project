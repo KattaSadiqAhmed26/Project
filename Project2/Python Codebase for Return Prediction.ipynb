{
 "cells": [
  {
   "cell_type": "code",
   "execution_count": 1,
   "id": "07ec3267-9fc7-421f-a4f9-b61214103e66",
   "metadata": {},
   "outputs": [
    {
     "name": "stdout",
     "output_type": "stream",
     "text": [
      "Requirement already satisfied: pandas in c:\\users\\hyper\\appdata\\local\\programs\\python\\python313\\lib\\site-packages (2.2.3)Note: you may need to restart the kernel to use updated packages.\n",
      "\n",
      "Collecting scikit-learn\n",
      "  Downloading scikit_learn-1.6.1-cp313-cp313-win_amd64.whl.metadata (15 kB)\n",
      "Collecting xgboost\n",
      "  Downloading xgboost-3.0.0-py3-none-win_amd64.whl.metadata (2.1 kB)\n",
      "Requirement already satisfied: matplotlib in c:\\users\\hyper\\appdata\\local\\programs\\python\\python313\\lib\\site-packages (3.10.0)\n",
      "Requirement already satisfied: seaborn in c:\\users\\hyper\\appdata\\local\\programs\\python\\python313\\lib\\site-packages (0.13.2)\n",
      "Requirement already satisfied: numpy>=1.26.0 in c:\\users\\hyper\\appdata\\local\\programs\\python\\python313\\lib\\site-packages (from pandas) (2.2.1)\n",
      "Requirement already satisfied: python-dateutil>=2.8.2 in c:\\users\\hyper\\appdata\\local\\programs\\python\\python313\\lib\\site-packages (from pandas) (2.9.0.post0)\n",
      "Requirement already satisfied: pytz>=2020.1 in c:\\users\\hyper\\appdata\\local\\programs\\python\\python313\\lib\\site-packages (from pandas) (2024.2)\n",
      "Requirement already satisfied: tzdata>=2022.7 in c:\\users\\hyper\\appdata\\local\\programs\\python\\python313\\lib\\site-packages (from pandas) (2024.2)\n",
      "Requirement already satisfied: scipy>=1.6.0 in c:\\users\\hyper\\appdata\\local\\programs\\python\\python313\\lib\\site-packages (from scikit-learn) (1.15.2)\n",
      "Collecting joblib>=1.2.0 (from scikit-learn)\n",
      "  Downloading joblib-1.5.0-py3-none-any.whl.metadata (5.6 kB)\n",
      "Collecting threadpoolctl>=3.1.0 (from scikit-learn)\n",
      "  Downloading threadpoolctl-3.6.0-py3-none-any.whl.metadata (13 kB)\n",
      "Requirement already satisfied: contourpy>=1.0.1 in c:\\users\\hyper\\appdata\\local\\programs\\python\\python313\\lib\\site-packages (from matplotlib) (1.3.1)\n",
      "Requirement already satisfied: cycler>=0.10 in c:\\users\\hyper\\appdata\\local\\programs\\python\\python313\\lib\\site-packages (from matplotlib) (0.12.1)\n",
      "Requirement already satisfied: fonttools>=4.22.0 in c:\\users\\hyper\\appdata\\local\\programs\\python\\python313\\lib\\site-packages (from matplotlib) (4.55.3)\n",
      "Requirement already satisfied: kiwisolver>=1.3.1 in c:\\users\\hyper\\appdata\\local\\programs\\python\\python313\\lib\\site-packages (from matplotlib) (1.4.8)\n",
      "Requirement already satisfied: packaging>=20.0 in c:\\users\\hyper\\appdata\\local\\programs\\python\\python313\\lib\\site-packages (from matplotlib) (24.2)\n",
      "Requirement already satisfied: pillow>=8 in c:\\users\\hyper\\appdata\\local\\programs\\python\\python313\\lib\\site-packages (from matplotlib) (11.1.0)\n",
      "Requirement already satisfied: pyparsing>=2.3.1 in c:\\users\\hyper\\appdata\\local\\programs\\python\\python313\\lib\\site-packages (from matplotlib) (3.2.1)\n",
      "Requirement already satisfied: six>=1.5 in c:\\users\\hyper\\appdata\\local\\programs\\python\\python313\\lib\\site-packages (from python-dateutil>=2.8.2->pandas) (1.17.0)\n",
      "Downloading scikit_learn-1.6.1-cp313-cp313-win_amd64.whl (11.1 MB)\n",
      "   ---------------------------------------- 0.0/11.1 MB ? eta -:--:--\n",
      "   ------------ --------------------------- 3.4/11.1 MB 20.2 MB/s eta 0:00:01\n",
      "   -------------------------------- ------- 8.9/11.1 MB 23.3 MB/s eta 0:00:01\n",
      "   ---------------------------------------- 11.1/11.1 MB 21.3 MB/s eta 0:00:00\n",
      "Downloading xgboost-3.0.0-py3-none-win_amd64.whl (150.0 MB)\n",
      "   ---------------------------------------- 0.0/150.0 MB ? eta -:--:--\n",
      "   - -------------------------------------- 5.2/150.0 MB 29.8 MB/s eta 0:00:05\n",
      "   -- ------------------------------------- 10.2/150.0 MB 26.2 MB/s eta 0:00:06\n",
      "   ---- ----------------------------------- 17.0/150.0 MB 27.8 MB/s eta 0:00:05\n",
      "   ------ --------------------------------- 24.6/150.0 MB 29.7 MB/s eta 0:00:05\n",
      "   -------- ------------------------------- 31.7/150.0 MB 30.4 MB/s eta 0:00:04\n",
      "   --------- ------------------------------ 37.2/150.0 MB 29.5 MB/s eta 0:00:04\n",
      "   ----------- ---------------------------- 44.3/150.0 MB 29.9 MB/s eta 0:00:04\n",
      "   ------------- -------------------------- 52.2/150.0 MB 30.6 MB/s eta 0:00:04\n",
      "   --------------- ------------------------ 59.5/150.0 MB 31.2 MB/s eta 0:00:03\n",
      "   ----------------- ---------------------- 65.3/150.0 MB 30.8 MB/s eta 0:00:03\n",
      "   ------------------ --------------------- 71.0/150.0 MB 30.3 MB/s eta 0:00:03\n",
      "   -------------------- ------------------- 76.5/150.0 MB 29.9 MB/s eta 0:00:03\n",
      "   ---------------------- ----------------- 83.6/150.0 MB 30.1 MB/s eta 0:00:03\n",
      "   ------------------------ --------------- 91.5/150.0 MB 30.5 MB/s eta 0:00:02\n",
      "   -------------------------- ------------- 99.4/150.0 MB 30.9 MB/s eta 0:00:02\n",
      "   --------------------------- ----------- 107.0/150.0 MB 31.2 MB/s eta 0:00:02\n",
      "   ----------------------------- --------- 114.6/150.0 MB 31.4 MB/s eta 0:00:02\n",
      "   ------------------------------- ------- 121.6/150.0 MB 31.5 MB/s eta 0:00:01\n",
      "   --------------------------------- ----- 129.2/150.0 MB 31.6 MB/s eta 0:00:01\n",
      "   ----------------------------------- --- 135.8/150.0 MB 31.5 MB/s eta 0:00:01\n",
      "   ------------------------------------ -- 141.3/150.0 MB 31.2 MB/s eta 0:00:01\n",
      "   --------------------------------------  149.2/150.0 MB 31.4 MB/s eta 0:00:01\n",
      "   --------------------------------------  149.9/150.0 MB 31.5 MB/s eta 0:00:01\n",
      "   --------------------------------------  149.9/150.0 MB 31.5 MB/s eta 0:00:01\n",
      "   --------------------------------------- 150.0/150.0 MB 28.8 MB/s eta 0:00:00\n",
      "Downloading joblib-1.5.0-py3-none-any.whl (307 kB)\n",
      "Downloading threadpoolctl-3.6.0-py3-none-any.whl (18 kB)\n",
      "Installing collected packages: threadpoolctl, joblib, xgboost, scikit-learn\n",
      "Successfully installed joblib-1.5.0 scikit-learn-1.6.1 threadpoolctl-3.6.0 xgboost-3.0.0\n"
     ]
    },
    {
     "name": "stderr",
     "output_type": "stream",
     "text": [
      "\n",
      "[notice] A new release of pip is available: 24.3.1 -> 25.1.1\n",
      "[notice] To update, run: python.exe -m pip install --upgrade pip\n"
     ]
    }
   ],
   "source": [
    "pip install pandas scikit-learn xgboost matplotlib seaborn"
   ]
  },
  {
   "cell_type": "code",
   "execution_count": 2,
   "id": "f620e6cf-49f5-478b-863e-d0ecd07234fb",
   "metadata": {},
   "outputs": [],
   "source": [
    "import pandas as pd\n",
    "from sklearn.model_selection import train_test_split\n",
    "from sklearn.ensemble import RandomForestClassifier\n",
    "from sklearn.preprocessing import LabelEncoder\n",
    "from sklearn.metrics import classification_report"
   ]
  },
  {
   "cell_type": "code",
   "execution_count": 6,
   "id": "e778ef42-ab34-4046-895e-421acd5df78f",
   "metadata": {},
   "outputs": [],
   "source": [
    "\n",
    "# Load original CSV\n",
    "df = pd.read_csv(r'C:\\Users\\hyper\\OneDrive\\Desktop\\Internship\\Project2\\ecommerce_online_sales.csv')"
   ]
  },
  {
   "cell_type": "code",
   "execution_count": 7,
   "id": "0497d93b-f396-4711-a792-85ab3a70fe89",
   "metadata": {},
   "outputs": [],
   "source": [
    "# Define high-risk return reasons\n",
    "high_risk_reasons = [\n",
    "    'Item defective or damaged',\n",
    "    'Wrong item delivered',\n",
    "    'Product did not match description'\n",
    "]"
   ]
  },
  {
   "cell_type": "code",
   "execution_count": 8,
   "id": "f295abbc-bb76-4428-b91a-18aa8aafef3e",
   "metadata": {},
   "outputs": [],
   "source": [
    "# Create binary target column\n",
    "df['Return_Flag'] = df['Return_Reason'].apply(lambda x: 1 if x in high_risk_reasons else 0)"
   ]
  },
  {
   "cell_type": "code",
   "execution_count": 9,
   "id": "9cfe9198-3953-482b-aed6-083356b2c96b",
   "metadata": {},
   "outputs": [
    {
     "name": "stdout",
     "output_type": "stream",
     "text": [
      "Return_Flag\n",
      "0    793\n",
      "1    207\n",
      "Name: count, dtype: int64\n"
     ]
    }
   ],
   "source": [
    "# Optional: Check the distribution\n",
    "print(df['Return_Flag'].value_counts())"
   ]
  },
  {
   "cell_type": "code",
   "execution_count": 10,
   "id": "e3119045-de23-42bd-a822-eea549dc977d",
   "metadata": {},
   "outputs": [],
   "source": [
    "# Binary target for prediction (e.g., high return risk)\n",
    "df['Return_Flag'] = df['Return_Reason'].apply(lambda x: 1 if x in ['Item defective or damaged', 'Wrong item delivered'] else 0)"
   ]
  },
  {
   "cell_type": "code",
   "execution_count": 11,
   "id": "ace2c845-f2fe-4790-8c2a-1ff6ca1dc33f",
   "metadata": {},
   "outputs": [],
   "source": [
    "# Encode categorical columns\n",
    "le = LabelEncoder()\n",
    "for col in ['Category', 'Geography', 'Marketing_Channel', 'Product_Name']:\n",
    "    df[col] = le.fit_transform(df[col])"
   ]
  },
  {
   "cell_type": "code",
   "execution_count": 12,
   "id": "2597fc95-da47-4ef1-80b8-a97b6cc97c5d",
   "metadata": {},
   "outputs": [],
   "source": [
    "# Feature selection\n",
    "X = df[['Category', 'Geography', 'Marketing_Channel', 'Product_Name']]\n",
    "y = df['Return_Flag']"
   ]
  },
  {
   "cell_type": "code",
   "execution_count": 13,
   "id": "873313a5-52a8-43d4-8d45-bb7506318806",
   "metadata": {},
   "outputs": [
    {
     "name": "stdout",
     "output_type": "stream",
     "text": [
      "              precision    recall  f1-score   support\n",
      "\n",
      "           0       0.91      0.92      0.92       181\n",
      "           1       0.12      0.11      0.11        19\n",
      "\n",
      "    accuracy                           0.84       200\n",
      "   macro avg       0.52      0.51      0.51       200\n",
      "weighted avg       0.83      0.84      0.84       200\n",
      "\n"
     ]
    }
   ],
   "source": [
    "# Train/test split\n",
    "X_train, X_test, y_train, y_test = train_test_split(X, y, test_size=0.2, random_state=42)\n",
    "\n",
    "# Model\n",
    "model = RandomForestClassifier()\n",
    "model.fit(X_train, y_train)\n",
    "\n",
    "# Evaluation\n",
    "y_pred = model.predict(X_test)\n",
    "print(classification_report(y_test, y_pred))"
   ]
  },
  {
   "cell_type": "code",
   "execution_count": 14,
   "id": "27e7fded-fabc-4c0b-887c-f17791bd7554",
   "metadata": {},
   "outputs": [],
   "source": [
    "# Count total and risky returns\n",
    "high_risk_reasons = ['Item defective or damaged', 'Wrong item delivered']\n",
    "risk_df = df[df['Return_Reason'].isin(high_risk_reasons)]\n",
    "\n",
    "high_risk_summary = risk_df.groupby('Product_Name').size().reset_index(name='High_Risk_Returns')\n",
    "high_risk_summary = high_risk_summary.sort_values(by='High_Risk_Returns', ascending=False)\n",
    "\n",
    "# Save to CSV\n",
    "high_risk_summary.to_csv(\"high_risk_products.csv\", index=False)"
   ]
  },
  {
   "cell_type": "code",
   "execution_count": 15,
   "id": "52e42566-2b32-4564-8c05-114f1965b594",
   "metadata": {},
   "outputs": [
    {
     "name": "stdout",
     "output_type": "stream",
     "text": [
      "C:\\Users\\hyper\n"
     ]
    }
   ],
   "source": [
    "import os\n",
    "print(os.getcwd())"
   ]
  },
  {
   "cell_type": "code",
   "execution_count": null,
   "id": "5c0cf3c1-8750-407c-b551-6a5679da70fa",
   "metadata": {},
   "outputs": [],
   "source": []
  }
 ],
 "metadata": {
  "kernelspec": {
   "display_name": "Python 3 (ipykernel)",
   "language": "python",
   "name": "python3"
  },
  "language_info": {
   "codemirror_mode": {
    "name": "ipython",
    "version": 3
   },
   "file_extension": ".py",
   "mimetype": "text/x-python",
   "name": "python",
   "nbconvert_exporter": "python",
   "pygments_lexer": "ipython3",
   "version": "3.13.1"
  }
 },
 "nbformat": 4,
 "nbformat_minor": 5
}
